{
 "cells": [
  {
   "cell_type": "markdown",
   "id": "646aa115-a092-4066-b58f-68ffa8934325",
   "metadata": {},
   "source": [
    "create table emp(empid,empname,salary) and insert 8 records.print only those records where salary>10000 and write\n",
    "thos data into salary.csv file. Do all this task from python."
   ]
  },
  {
   "cell_type": "code",
   "execution_count": 25,
   "id": "1355cde8-e531-42c4-be39-ad78075c5cd1",
   "metadata": {},
   "outputs": [],
   "source": [
    "import sqlite3 as sq"
   ]
  },
  {
   "cell_type": "code",
   "execution_count": 26,
   "id": "bfff4fac-b02b-4a6e-bb21-9558799c0a28",
   "metadata": {},
   "outputs": [],
   "source": [
    "import csv"
   ]
  },
  {
   "cell_type": "code",
   "execution_count": 35,
   "id": "a1b149ea-1e41-4fa0-ab14-2170d63a7038",
   "metadata": {},
   "outputs": [],
   "source": [
    "conn=sq.connect(\"D:/pythonSQL/sqlite-tools-win-x64-3460000/database/emp275.db\")"
   ]
  },
  {
   "cell_type": "code",
   "execution_count": 36,
   "id": "a3414c74-2dde-4ef4-9bbd-a962e32ce3e2",
   "metadata": {},
   "outputs": [],
   "source": [
    "cur=conn.cursor()"
   ]
  },
  {
   "cell_type": "code",
   "execution_count": 37,
   "id": "62593dc3-b3d2-43e8-9602-7a08958a3f08",
   "metadata": {},
   "outputs": [
    {
     "data": {
      "text/plain": [
       "<sqlite3.Cursor at 0x15de5029940>"
      ]
     },
     "execution_count": 37,
     "metadata": {},
     "output_type": "execute_result"
    }
   ],
   "source": [
    "cur.execute(\"create table if not exists emp28(eid,ename,salary)\")"
   ]
  },
  {
   "cell_type": "code",
   "execution_count": 38,
   "id": "6a94158d-5f20-4cbb-9a9c-0ec5ceca0478",
   "metadata": {},
   "outputs": [
    {
     "data": {
      "text/plain": [
       "<sqlite3.Cursor at 0x15de5029940>"
      ]
     },
     "execution_count": 38,
     "metadata": {},
     "output_type": "execute_result"
    }
   ],
   "source": [
    "cur.execute(\"insert into emp28 values(1,'om',9000)\")"
   ]
  },
  {
   "cell_type": "code",
   "execution_count": 39,
   "id": "eaccc46f-0653-4291-aabb-b71b340dd04d",
   "metadata": {},
   "outputs": [
    {
     "data": {
      "text/plain": [
       "<sqlite3.Cursor at 0x15de5029940>"
      ]
     },
     "execution_count": 39,
     "metadata": {},
     "output_type": "execute_result"
    }
   ],
   "source": [
    "cur.execute(\"insert into emp28 values(2,'sa',8000)\")"
   ]
  },
  {
   "cell_type": "code",
   "execution_count": 40,
   "id": "2f89c5f3-59c4-4e9c-a59a-ba54d091d0f0",
   "metadata": {},
   "outputs": [
    {
     "data": {
      "text/plain": [
       "<sqlite3.Cursor at 0x15de5029940>"
      ]
     },
     "execution_count": 40,
     "metadata": {},
     "output_type": "execute_result"
    }
   ],
   "source": [
    "cur.execute(\"insert into emp28 values(3,'ram',8000)\")"
   ]
  },
  {
   "cell_type": "code",
   "execution_count": 41,
   "id": "26c9d389-e2ce-405e-8fdf-afcaa98342e6",
   "metadata": {},
   "outputs": [
    {
     "data": {
      "text/plain": [
       "<sqlite3.Cursor at 0x15de5029940>"
      ]
     },
     "execution_count": 41,
     "metadata": {},
     "output_type": "execute_result"
    }
   ],
   "source": [
    "cur.execute(\"insert into emp28 values(4,'sufiyan',16000)\")"
   ]
  },
  {
   "cell_type": "code",
   "execution_count": 42,
   "id": "8dd05c96-516b-47be-95dd-0b51ba5311dc",
   "metadata": {},
   "outputs": [
    {
     "data": {
      "text/plain": [
       "<sqlite3.Cursor at 0x15de5029940>"
      ]
     },
     "execution_count": 42,
     "metadata": {},
     "output_type": "execute_result"
    }
   ],
   "source": [
    "cur.execute(\"insert into emp28 values(5,'saif',11000)\")"
   ]
  },
  {
   "cell_type": "code",
   "execution_count": 43,
   "id": "bf911a3d-21fd-4ab0-9e18-a221cff83079",
   "metadata": {},
   "outputs": [
    {
     "data": {
      "text/plain": [
       "<sqlite3.Cursor at 0x15de5029940>"
      ]
     },
     "execution_count": 43,
     "metadata": {},
     "output_type": "execute_result"
    }
   ],
   "source": [
    "cur.execute(\"insert into emp28 values(6,'sajid',10000)\")"
   ]
  },
  {
   "cell_type": "code",
   "execution_count": 44,
   "id": "232c0dd1-3f9d-4abe-aeaf-3ac9177286bb",
   "metadata": {},
   "outputs": [
    {
     "data": {
      "text/plain": [
       "<sqlite3.Cursor at 0x15de5029940>"
      ]
     },
     "execution_count": 44,
     "metadata": {},
     "output_type": "execute_result"
    }
   ],
   "source": [
    "cur.execute(\"insert into emp28 values(7,'adil',9500)\")"
   ]
  },
  {
   "cell_type": "code",
   "execution_count": 45,
   "id": "5da90781-dd8b-4b71-afee-0d2ed6119124",
   "metadata": {},
   "outputs": [
    {
     "data": {
      "text/plain": [
       "<sqlite3.Cursor at 0x15de5029940>"
      ]
     },
     "execution_count": 45,
     "metadata": {},
     "output_type": "execute_result"
    }
   ],
   "source": [
    "cur.execute(\"insert into emp28 values(8,'ammar',6000)\")"
   ]
  },
  {
   "cell_type": "code",
   "execution_count": 52,
   "id": "5fc56ecb-a562-41b6-8b18-2f97dbfd6995",
   "metadata": {},
   "outputs": [
    {
     "data": {
      "text/plain": [
       "<sqlite3.Cursor at 0x15de5029940>"
      ]
     },
     "execution_count": 52,
     "metadata": {},
     "output_type": "execute_result"
    }
   ],
   "source": [
    "cur.execute(\"select * from emp28 where salary > 10000\")"
   ]
  },
  {
   "cell_type": "code",
   "execution_count": 53,
   "id": "d87450de-3afa-42ef-ae1c-1ce25b4bf1ba",
   "metadata": {},
   "outputs": [],
   "source": [
    "rec=cur.fetchall()"
   ]
  },
  {
   "cell_type": "code",
   "execution_count": 54,
   "id": "8b39eed7-773a-421f-8d59-f26207ee8627",
   "metadata": {},
   "outputs": [
    {
     "name": "stdout",
     "output_type": "stream",
     "text": [
      "[(4, 'sufiyan', 16000), (5, 'saif', 11000)]\n"
     ]
    }
   ],
   "source": [
    "print(rec)"
   ]
  },
  {
   "cell_type": "code",
   "execution_count": 59,
   "id": "f40aa279-2e81-47f9-bb99-43f2e5a5b636",
   "metadata": {},
   "outputs": [],
   "source": [
    "f = open(\"D:\\\\pythonSQL\\\\sqlite-tools-win-x64-3460000\\\\csv\\\\b.csv\",\"w\")"
   ]
  },
  {
   "cell_type": "code",
   "execution_count": 63,
   "id": "c2fb65ec-dada-48cc-bdaf-398e51ce932b",
   "metadata": {},
   "outputs": [],
   "source": [
    "wo = csv.writer(f, delimiter = ',')"
   ]
  },
  {
   "cell_type": "code",
   "execution_count": 65,
   "id": "86537f3c-5a94-4507-98a7-656f8f786112",
   "metadata": {},
   "outputs": [
    {
     "data": {
      "text/plain": [
       "46"
      ]
     },
     "execution_count": 65,
     "metadata": {},
     "output_type": "execute_result"
    }
   ],
   "source": [
    "wo.writerow([(4, 'sufiyan', 16000), (5, 'saif', 11000)])"
   ]
  },
  {
   "cell_type": "code",
   "execution_count": 66,
   "id": "6de457e8-a9af-406b-ac4c-8ff31dc2de12",
   "metadata": {},
   "outputs": [],
   "source": [
    "f.close()"
   ]
  },
  {
   "cell_type": "code",
   "execution_count": null,
   "id": "77763010-850c-4e67-a6e1-2a2ad476cb91",
   "metadata": {},
   "outputs": [],
   "source": [
    "-"
   ]
  }
 ],
 "metadata": {
  "kernelspec": {
   "display_name": "Python 3 (ipykernel)",
   "language": "python",
   "name": "python3"
  },
  "language_info": {
   "codemirror_mode": {
    "name": "ipython",
    "version": 3
   },
   "file_extension": ".py",
   "mimetype": "text/x-python",
   "name": "python",
   "nbconvert_exporter": "python",
   "pygments_lexer": "ipython3",
   "version": "3.10.0"
  }
 },
 "nbformat": 4,
 "nbformat_minor": 5
}
