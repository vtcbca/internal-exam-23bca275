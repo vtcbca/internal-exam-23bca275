{
 "cells": [
  {
   "cell_type": "code",
   "execution_count": 1,
   "id": "8e4570ea",
   "metadata": {},
   "outputs": [],
   "source": [
    "import csv"
   ]
  },
  {
   "cell_type": "code",
   "execution_count": 2,
   "id": "db8ca214",
   "metadata": {},
   "outputs": [
    {
     "name": "stdout",
     "output_type": "stream",
     "text": [
      "['eid', 'ename', 'salary']\n",
      "['1', 'sufiyan', '15000']\n",
      "['2', 'adil', '9000']\n",
      "['3', 'ammar', '8000']\n",
      "['4', 'monu', '7000']\n",
      "['5', 'sajid', '12000']\n",
      "['6', 'vicky', '6000']\n",
      "['7', 'shoaib', '13000']\n",
      "['8', 'vikas', '14000']\n"
     ]
    }
   ],
   "source": [
    "with open (\"D:\\\\23bca275\\\\python\\\\sqlite-tools-win-x64-3460000\\\\csv\\\\emp12.csv\") as f:\n",
    "    r=csv.reader(f)\n",
    "    for row in r:\n",
    "        print(row)"
   ]
  },
  {
   "cell_type": "code",
   "execution_count": 3,
   "id": "ed320d19",
   "metadata": {},
   "outputs": [],
   "source": [
    "import sqlite3 as sq"
   ]
  },
  {
   "cell_type": "code",
   "execution_count": 4,
   "id": "5ec1b256",
   "metadata": {},
   "outputs": [],
   "source": [
    "conn=sq.connect(\"D:/23bca275/python/sqlite-tools-win-x64-3460000/Database/emp.27\")"
   ]
  },
  {
   "cell_type": "code",
   "execution_count": 5,
   "id": "4291ef12",
   "metadata": {},
   "outputs": [],
   "source": [
    "cur=conn.cursor()"
   ]
  },
  {
   "cell_type": "code",
   "execution_count": 9,
   "id": "8866a0ea",
   "metadata": {},
   "outputs": [],
   "source": [
    "s=\"select * from emp12 where salary > 10000\""
   ]
  },
  {
   "cell_type": "code",
   "execution_count": 10,
   "id": "c402c71d",
   "metadata": {},
   "outputs": [
    {
     "ename": "OperationalError",
     "evalue": "no such table: emp12",
     "output_type": "error",
     "traceback": [
      "\u001b[1;31m---------------------------------------------------------------------------\u001b[0m",
      "\u001b[1;31mOperationalError\u001b[0m                          Traceback (most recent call last)",
      "Input \u001b[1;32mIn [10]\u001b[0m, in \u001b[0;36m<cell line: 1>\u001b[1;34m()\u001b[0m\n\u001b[1;32m----> 1\u001b[0m \u001b[43mcur\u001b[49m\u001b[38;5;241;43m.\u001b[39;49m\u001b[43mexecute\u001b[49m\u001b[43m(\u001b[49m\u001b[43ms\u001b[49m\u001b[43m)\u001b[49m\n",
      "\u001b[1;31mOperationalError\u001b[0m: no such table: emp12"
     ]
    }
   ],
   "source": [
    "cur.execute(s)"
   ]
  },
  {
   "cell_type": "code",
   "execution_count": null,
   "id": "e2582f9f",
   "metadata": {},
   "outputs": [],
   "source": []
  }
 ],
 "metadata": {
  "kernelspec": {
   "display_name": "Python 3 (ipykernel)",
   "language": "python",
   "name": "python3"
  },
  "language_info": {
   "codemirror_mode": {
    "name": "ipython",
    "version": 3
   },
   "file_extension": ".py",
   "mimetype": "text/x-python",
   "name": "python",
   "nbconvert_exporter": "python",
   "pygments_lexer": "ipython3",
   "version": "3.9.12"
  }
 },
 "nbformat": 4,
 "nbformat_minor": 5
}
